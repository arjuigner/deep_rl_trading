{
 "cells": [
  {
   "cell_type": "code",
   "execution_count": 39,
   "metadata": {},
   "outputs": [],
   "source": [
    "import os\n",
    "import pandas as pd\n",
    "import sys\n",
    "parent_dir = os.path.abspath(os.path.join(os.getcwd(), '..'))\n",
    "sys.path.append(parent_dir)"
   ]
  },
  {
   "cell_type": "code",
   "execution_count": 40,
   "metadata": {},
   "outputs": [],
   "source": [
    "def _custom_formatter(val, row_name):\n",
    "    if val == \"|\":\n",
    "        return \"|\"\n",
    "    elif row_name == \"Final Returns\":\n",
    "        return f\"{float(val) * 100:.2f}%\"\n",
    "    elif pd.isnull(val):\n",
    "        return \"\"\n",
    "    else:\n",
    "        return f\"{float(val):.2f}\"\n",
    "            \n",
    "def visualize_experiment(experiment_id: int):\n",
    "    pd.set_option('display.width', 200)\n",
    "    pd.set_option('display.max_columns', None)\n",
    "\n",
    "    base = \"../\"\n",
    "    \n",
    "    # Find all csv files for the experiment\n",
    "    filenames = os.listdir(os.path.join(base, \"data\", \"results\"))\n",
    "    filenames = [filename for filename in filenames if filename.endswith(\".csv\")]\n",
    "    filenames = [filename for filename in filenames if f\"exp_{experiment_id}_run\" in filename]\n",
    "    filenames = sorted(filenames)\n",
    "    \n",
    "    print(f\"Found {len(filenames)} files for experiment {experiment_id}:\\n{filenames}\")\n",
    "    \n",
    "    for i in range(0, len(filenames), 3):\n",
    "        dfs = []\n",
    "        run_labels = []\n",
    "        \n",
    "        for j in range(i, min(i + 3, len(filenames))):\n",
    "            df = pd.read_csv(os.path.join(base, \"data\", \"results\", filenames[j]), index_col=\"Unnamed: 0\")\n",
    "            dfs.append(df)\n",
    "            run_labels.append(f\"run_{j}\")\n",
    "\n",
    "            # Add a separator after each df, except the last one\n",
    "            if j < min(i + 3, len(filenames)) - 1:\n",
    "                sep = pd.DataFrame(\"|\", index=df.index, columns=[\"|\"])\n",
    "                dfs.append(sep)\n",
    "                run_labels.append(\"|\")\n",
    "\n",
    "        # Concatenate with keys (multi-level columns)\n",
    "        results = pd.concat(dfs, axis=1, keys=run_labels)\n",
    "\n",
    "        # Format the DataFrame row-by-row\n",
    "        formatted = results.copy().astype(object)\n",
    "        for row_label in formatted.index:\n",
    "            formatted.loc[row_label] = [\n",
    "                _custom_formatter(val, row_label)\n",
    "                for val in formatted.loc[row_label]\n",
    "            ]\n",
    "\n",
    "        print(formatted.to_string(), \"\\n\")\n"
   ]
  },
  {
   "cell_type": "code",
   "execution_count": 41,
   "metadata": {},
   "outputs": [
    {
     "name": "stdout",
     "output_type": "stream",
     "text": [
      "Found 3 files for experiment 1:\n",
      "['exp_1_run_0.csv', 'exp_1_run_1.csv', 'exp_1_run_2.csv']\n",
      "               run_0                         |  run_1                         |  run_2                       \n",
      "                mean    std     min     max  |   mean    std     min     max  |   mean    std     min     max\n",
      "Final Returns  3.63%  4.63%  -5.34%  14.69%  |  2.81%  5.51%  -7.70%  18.14%  |  2.42%  4.43%  -7.43%  12.80%\n",
      "Sharpe Ratio    2.92   3.71   -3.48   13.03  |   2.12   3.69   -4.77   13.62  |   2.76   4.48   -6.39   13.44\n",
      "Max Drawdown    0.04   0.01    0.01    0.06  |   0.04   0.02    0.01    0.10  |   0.03   0.02    0.01    0.09\n",
      "Sortino Ratio   8.92  13.62   -7.34   55.70  |   6.28  11.67   -8.17   48.83  |   8.79  13.83   -8.32   45.55 \n",
      "\n"
     ]
    }
   ],
   "source": [
    "visualize_experiment(1)"
   ]
  },
  {
   "cell_type": "code",
   "execution_count": 42,
   "metadata": {},
   "outputs": [
    {
     "name": "stdout",
     "output_type": "stream",
     "text": [
      "Found 5 files for experiment 2:\n",
      "['exp_2_run_0.csv', 'exp_2_run_1.csv', 'exp_2_run_2.csv', 'exp_2_run_3.csv', 'exp_2_run_4.csv']\n",
      "                run_0                        |   run_1                           |   run_2                      \n",
      "                 mean    std     min    max  |    mean     std      min     max  |    mean    std     min    max\n",
      "Final Returns  -0.00%  0.02%  -0.04%  0.03%  |  -0.79%  11.11%  -18.74%  27.29%  |  -0.00%  0.00%  -0.01%  0.01%\n",
      "Sharpe Ratio    -0.60   4.20  -10.18   8.11  |   -0.38    4.26    -8.10    8.67  |   -1.38   3.92   -9.79   8.84\n",
      "Max Drawdown     0.00   0.00    0.00   0.00  |    0.10    0.05     0.03    0.21  |    0.00   0.00    0.00   0.00\n",
      "Sortino Ratio    0.67   7.06  -10.42  22.83  |    0.53    6.82   -10.22   17.36  |   -0.18   7.55   -9.79  35.85 \n",
      "\n",
      "                run_3                           |  run_4                        \n",
      "                 mean     std      min     max  |   mean    std      min     max\n",
      "Final Returns  -1.24%  13.91%  -23.02%  30.73%  |  0.49%  8.04%  -16.38%  19.19%\n",
      "Sharpe Ratio    -0.21    4.49    -8.11    8.91  |   0.49   4.14    -7.68    9.23\n",
      "Max Drawdown     0.11    0.07     0.03    0.23  |   0.07   0.04     0.02    0.19\n",
      "Sortino Ratio    1.20    8.26   -10.37   32.58  |   2.24   8.41    -9.33   30.81 \n",
      "\n"
     ]
    }
   ],
   "source": [
    "visualize_experiment(2)"
   ]
  },
  {
   "cell_type": "code",
   "execution_count": 43,
   "metadata": {},
   "outputs": [
    {
     "name": "stdout",
     "output_type": "stream",
     "text": [
      "Found 5 files for experiment 3:\n",
      "['exp_3_run_0.csv', 'exp_3_run_1.csv', 'exp_3_run_2.csv', 'exp_3_run_3.csv', 'exp_3_run_4.csv']\n",
      "               run_0                         |   run_1                          |   run_2                         \n",
      "                mean    std     min     max  |    mean    std      min     max  |    mean     std      min     max\n",
      "Final Returns  0.70%  2.96%  -3.86%   6.73%  |  -3.03%  9.72%  -21.02%  20.07%  |  -3.11%  10.61%  -19.51%  16.66%\n",
      "Sharpe Ratio   -0.61   4.35   -5.75    9.56  |   -0.82   4.17    -7.46   10.57  |   -1.33    5.12    -9.50    9.52\n",
      "Max Drawdown    0.01   0.01    0.00    0.04  |    0.10   0.06     0.01    0.21  |    0.09    0.06     0.02    0.21\n",
      "Sortino Ratio  27.54  55.66   -5.06  317.25  |    0.67   8.03   -10.74   26.39  |    0.51    8.91   -11.40   23.82 \n",
      "\n",
      "                run_3                           |   run_4                       \n",
      "                 mean     std      min     max  |    mean    std      min    max\n",
      "Final Returns  -2.67%  10.64%  -22.68%  23.97%  |  -2.27%  5.72%  -11.44%  8.35%\n",
      "Sharpe Ratio    -1.02    3.95    -7.85    9.41  |   -1.29   3.61    -7.92   7.30\n",
      "Max Drawdown     0.10    0.05     0.03    0.24  |    0.07   0.03     0.02   0.13\n",
      "Sortino Ratio   -0.36    6.97    -9.35   27.16  |   -0.65   4.85    -7.79  11.61 \n",
      "\n"
     ]
    }
   ],
   "source": [
    "visualize_experiment(3)"
   ]
  },
  {
   "cell_type": "code",
   "execution_count": 44,
   "metadata": {},
   "outputs": [
    {
     "name": "stdout",
     "output_type": "stream",
     "text": [
      "Found 5 files for experiment 4:\n",
      "['exp_4_run_0.csv', 'exp_4_run_1.csv', 'exp_4_run_2.csv', 'exp_4_run_3.csv', 'exp_4_run_4.csv']\n",
      "               run_0                        |  run_1                         |   run_2                        \n",
      "                mean    std     min    max  |   mean    std      min    max  |    mean    std      min     max\n",
      "Final Returns  0.37%  3.54%  -7.66%  6.41%  |  0.71%  3.89%  -10.09%  9.76%  |  -0.91%  9.00%  -18.96%  17.06%\n",
      "Sharpe Ratio    0.42   2.85   -5.30   5.75  |   0.07   2.46    -6.46   4.89  |   -0.43   3.96    -8.37    6.96\n",
      "Max Drawdown    0.04   0.02    0.01   0.09  |   0.04   0.02     0.00   0.11  |    0.08   0.05     0.01    0.19\n",
      "Sortino Ratio   2.09   5.02   -6.40  14.67  |   2.74  10.61    -5.92  59.98  |    1.32   7.02    -7.94   26.67 \n",
      "\n",
      "                run_3                          |   run_4                        \n",
      "                 mean    std      min     max  |    mean    std      min     max\n",
      "Final Returns  -1.60%  9.53%  -18.64%  21.45%  |  -0.80%  9.17%  -13.07%  16.80%\n",
      "Sharpe Ratio    -0.49   4.41    -7.94    7.19  |   -0.82   5.06    -7.99    8.99\n",
      "Max Drawdown     0.07   0.05     0.00    0.21  |    0.07   0.04     0.01    0.14\n",
      "Sortino Ratio    9.26  46.72    -8.39  312.13  |    3.25  17.25    -7.96  143.95 \n",
      "\n"
     ]
    }
   ],
   "source": [
    "visualize_experiment(4)"
   ]
  },
  {
   "cell_type": "code",
   "execution_count": 45,
   "metadata": {},
   "outputs": [
    {
     "name": "stdout",
     "output_type": "stream",
     "text": [
      "Found 5 files for experiment 5:\n",
      "['exp_5_run_0.csv', 'exp_5_run_1.csv', 'exp_5_run_2.csv', 'exp_5_run_3.csv', 'exp_5_run_4.csv']\n",
      "               run_0                           |   run_1                           |   run_2                      \n",
      "                mean     std      min     max  |    mean     std      min     max  |    mean    std     min    max\n",
      "Final Returns  0.33%  12.30%  -21.86%  33.51%  |  -3.90%  10.18%  -18.61%  19.62%  |  -0.00%  0.00%  -0.00%  0.00%\n",
      "Sharpe Ratio   -0.62    5.27    -8.69   10.06  |   -1.73    4.82    -8.69    9.44  |   -0.47   3.71   -7.46   8.95\n",
      "Max Drawdown    0.07    0.05     0.01    0.22  |    0.10    0.05     0.02    0.19  |    0.00   0.00    0.00   0.00\n",
      "Sortino Ratio   2.87   12.76    -9.78   43.79  |   -0.94    7.92   -11.86   28.26  |    3.26  11.49   -8.72  43.14 \n",
      "\n",
      "                run_3                           |   run_4                        \n",
      "                 mean     std      min     max  |    mean    std      min     max\n",
      "Final Returns  -3.50%  11.53%  -19.62%  24.63%  |  -2.72%  7.38%  -17.57%  12.30%\n",
      "Sharpe Ratio    -1.24    4.92    -8.65    9.56  |   -1.53   5.02    -9.68    6.05\n",
      "Max Drawdown     0.09    0.06     0.00    0.20  |    0.06   0.05     0.00    0.18\n",
      "Sortino Ratio    1.78   14.01   -10.08   71.10  |   10.81  34.25    -9.25  236.97 \n",
      "\n"
     ]
    }
   ],
   "source": [
    "visualize_experiment(5)"
   ]
  },
  {
   "cell_type": "code",
   "execution_count": 46,
   "metadata": {},
   "outputs": [
    {
     "name": "stdout",
     "output_type": "stream",
     "text": [
      "Found 5 files for experiment 6:\n",
      "['exp_6_run_0.csv', 'exp_6_run_1.csv', 'exp_6_run_2.csv', 'exp_6_run_3.csv', 'exp_6_run_4.csv']\n",
      "                run_0                          |   run_1                           |   run_2                      \n",
      "                 mean    std      min     max  |    mean     std      min     max  |    mean    std     min    max\n",
      "Final Returns  -0.06%  9.31%  -20.21%  22.09%  |  -0.12%  10.23%  -17.55%  23.01%  |  -1.66%  4.61%  -9.82%  7.99%\n",
      "Sharpe Ratio     0.43   4.07    -5.92    8.70  |    0.17    4.77    -7.47   10.02  |   -1.00   3.60   -7.52   6.91\n",
      "Max Drawdown     0.08   0.06     0.01    0.26  |    0.08    0.05     0.02    0.18  |    0.05   0.03    0.00   0.11\n",
      "Sortino Ratio    3.53  10.95    -6.86   43.23  |    2.60    9.02    -7.85   23.25  |    0.76   7.58   -7.81  30.20 \n",
      "\n",
      "               run_3                          |   run_4                      \n",
      "                mean    std      min     max  |    mean    std     min    max\n",
      "Final Returns  0.79%  8.68%  -13.12%  20.08%  |  -0.00%  0.00%  -0.00%  0.00%\n",
      "Sharpe Ratio    0.33   4.90    -6.79    9.25  |   -0.35   3.36   -6.00   6.55\n",
      "Max Drawdown    0.04   0.04     0.01    0.14  |    0.00   0.00    0.00   0.00\n",
      "Sortino Ratio  11.91  25.98    -6.21   85.69  |    3.04   9.02   -5.96  50.36 \n",
      "\n"
     ]
    }
   ],
   "source": [
    "visualize_experiment(6)"
   ]
  },
  {
   "cell_type": "code",
   "execution_count": 47,
   "metadata": {},
   "outputs": [
    {
     "name": "stdout",
     "output_type": "stream",
     "text": [
      "Found 5 files for experiment 7:\n",
      "['exp_7_run_0.csv', 'exp_7_run_1.csv', 'exp_7_run_2.csv', 'exp_7_run_3.csv', 'exp_7_run_4.csv']\n",
      "               run_0                          |  run_1                         |   run_2                        \n",
      "                mean    std      min     max  |   mean    std     min     max  |    mean    std      min     max\n",
      "Final Returns  2.22%  6.98%  -10.70%  31.46%  |  2.10%  5.38%  -2.18%  32.83%  |  -3.69%  6.91%  -19.14%  14.63%\n",
      "Sharpe Ratio    1.45   3.50    -6.18    9.66  |   1.17   4.25   -7.16   10.17  |   -1.14   3.88    -7.14    8.46\n",
      "Max Drawdown    0.03   0.04     0.00    0.18  |   0.01   0.02    0.00    0.08  |    0.08   0.05     0.00    0.19\n",
      "Sortino Ratio   6.10  22.85    -5.47  222.18  |   9.90  25.42   -6.74  209.90  |   -1.19   6.85   -10.14   22.01 \n",
      "\n",
      "                run_3                          |   run_4                       \n",
      "                 mean    std      min     max  |    mean    std      min    max\n",
      "Final Returns  -1.97%  6.58%  -11.68%  14.46%  |  -0.67%  1.55%  -11.61%  0.70%\n",
      "Sharpe Ratio    -0.99   4.19    -8.18    9.11  |   -2.54   3.42    -7.52   6.90\n",
      "Max Drawdown     0.07   0.03     0.01    0.13  |    0.01   0.02     0.00   0.17\n",
      "Sortino Ratio   -0.18   9.02   -12.11   31.00  |   -2.29   7.53   -10.03  57.21 \n",
      "\n"
     ]
    }
   ],
   "source": [
    "visualize_experiment(7)"
   ]
  },
  {
   "cell_type": "code",
   "execution_count": 48,
   "metadata": {},
   "outputs": [
    {
     "name": "stdout",
     "output_type": "stream",
     "text": [
      "Found 5 files for experiment 8:\n",
      "['exp_8_run_0.csv', 'exp_8_run_1.csv', 'exp_8_run_2.csv', 'exp_8_run_3.csv', 'exp_8_run_4.csv']\n",
      "               run_0                           |   run_1                          |   run_2                         \n",
      "                mean     std      min     max  |    mean    std      min     max  |    mean     std      min     max\n",
      "Final Returns  0.35%  11.58%  -19.14%  33.61%  |  -2.57%  8.06%  -17.51%  18.16%  |  -3.47%  10.73%  -20.04%  27.86%\n",
      "Sharpe Ratio    0.23    4.40    -6.61   10.01  |   -1.19   3.61    -8.93    7.74  |   -1.02    3.70    -9.10    8.88\n",
      "Max Drawdown    0.09    0.05     0.03    0.21  |    0.09   0.04     0.02    0.18  |    0.12    0.05     0.03    0.21\n",
      "Sortino Ratio   1.65    8.91   -10.53   33.40  |   -0.74   6.24   -10.88   17.80  |   -0.49    6.66   -10.30   23.59 \n",
      "\n",
      "                run_3                          |   run_4                        \n",
      "                 mean    std      min     max  |    mean    std      min     max\n",
      "Final Returns  -2.87%  9.86%  -19.62%  24.02%  |  -3.14%  9.11%  -21.29%  16.87%\n",
      "Sharpe Ratio    -0.64   4.39    -8.66   10.74  |   -0.83   3.77    -7.08    8.01\n",
      "Max Drawdown     0.09   0.06     0.01    0.21  |    0.10   0.06     0.02    0.24\n",
      "Sortino Ratio    1.30  14.94   -10.52  132.42  |   -0.21   6.75   -11.14   24.45 \n",
      "\n"
     ]
    }
   ],
   "source": [
    "visualize_experiment(8)"
   ]
  },
  {
   "cell_type": "code",
   "execution_count": 49,
   "metadata": {},
   "outputs": [
    {
     "name": "stdout",
     "output_type": "stream",
     "text": [
      "Found 5 files for experiment 9:\n",
      "['exp_9_run_0.csv', 'exp_9_run_1.csv', 'exp_9_run_2.csv', 'exp_9_run_3.csv', 'exp_9_run_4.csv']\n",
      "                run_0                           |   run_1                           |   run_2                         \n",
      "                 mean     std      min     max  |    mean     std      min     max  |    mean     std      min     max\n",
      "Final Returns  -4.65%  10.28%  -21.83%  18.98%  |  -0.07%  11.04%  -16.57%  30.85%  |  -2.47%  11.93%  -23.17%  25.13%\n",
      "Sharpe Ratio    -1.27    3.75    -7.93    7.71  |    0.03    3.93    -7.27    9.10  |   -0.74    4.55    -9.67    9.30\n",
      "Max Drawdown     0.11    0.06     0.02    0.23  |    0.09    0.05     0.03    0.21  |    0.10    0.06     0.02    0.25\n",
      "Sortino Ratio   -0.63    6.50   -10.46   18.98  |    1.52    7.76    -8.33   34.32  |    0.60    9.33   -12.76   28.62 \n",
      "\n",
      "                run_3                          |   run_4                        \n",
      "                 mean    std      min     max  |    mean    std      min     max\n",
      "Final Returns  -4.18%  8.54%  -19.25%  15.28%  |  -3.83%  8.11%  -16.92%  18.75%\n",
      "Sharpe Ratio    -1.30   3.58    -7.41    8.51  |   -1.62   3.72    -7.96    7.10\n",
      "Max Drawdown     0.10   0.05     0.02    0.23  |    0.09   0.05     0.02    0.18\n",
      "Sortino Ratio   -0.94   6.24    -8.54   18.30  |   -1.05   6.38    -9.82   24.51 \n",
      "\n"
     ]
    }
   ],
   "source": [
    "visualize_experiment(9)"
   ]
  },
  {
   "cell_type": "code",
   "execution_count": 50,
   "metadata": {},
   "outputs": [
    {
     "name": "stdout",
     "output_type": "stream",
     "text": [
      "Found 5 files for experiment 10:\n",
      "['exp_10_run_0.csv', 'exp_10_run_1.csv', 'exp_10_run_2.csv', 'exp_10_run_3.csv', 'exp_10_run_4.csv']\n",
      "                run_0                           |   run_1                           |   run_2                        \n",
      "                 mean     std      min     max  |    mean     std      min     max  |    mean    std      min     max\n",
      "Final Returns  -1.05%  12.29%  -18.24%  31.72%  |  -1.42%  11.38%  -18.85%  35.27%  |  -4.76%  7.75%  -19.26%  15.73%\n",
      "Sharpe Ratio    -0.42    4.71    -7.65    9.88  |   -0.71    4.83    -9.62    9.91  |   -2.01   3.56    -7.35    6.46\n",
      "Max Drawdown     0.10    0.05     0.03    0.22  |    0.09    0.05     0.01    0.22  |    0.09   0.04     0.01    0.20\n",
      "Sortino Ratio    1.41   10.01   -10.72   34.31  |    2.35   12.35   -11.49   47.53  |   -1.39   5.87    -8.26   24.00 \n",
      "\n",
      "                run_3                          |   run_4                         \n",
      "                 mean    std      min     max  |    mean     std      min     max\n",
      "Final Returns  -0.82%  7.79%  -17.52%  12.93%  |  -1.71%  11.22%  -18.04%  32.33%\n",
      "Sharpe Ratio    -0.08   4.30    -8.41    8.36  |   -0.90    4.85    -9.31   10.61\n",
      "Max Drawdown     0.06   0.05     0.00    0.18  |    0.08    0.06     0.02    0.22\n",
      "Sortino Ratio    3.87  12.06    -8.28   55.88  |    3.09   15.47    -9.56   75.37 \n",
      "\n"
     ]
    }
   ],
   "source": [
    "visualize_experiment(10)"
   ]
  },
  {
   "cell_type": "code",
   "execution_count": 51,
   "metadata": {},
   "outputs": [
    {
     "name": "stdout",
     "output_type": "stream",
     "text": [
      "Found 5 files for experiment 11:\n",
      "['exp_11_run_0.csv', 'exp_11_run_1.csv', 'exp_11_run_2.csv', 'exp_11_run_3.csv', 'exp_11_run_4.csv']\n",
      "                run_0                           |   run_1                           |   run_2                        \n",
      "                 mean     std      min     max  |    mean     std      min     max  |    mean    std      min     max\n",
      "Final Returns  -1.73%  11.87%  -19.40%  31.14%  |  -2.07%  10.69%  -21.21%  30.41%  |  -3.24%  9.09%  -17.39%  21.81%\n",
      "Sharpe Ratio    -1.02    4.54    -9.32   10.05  |   -0.88    4.09    -8.04    9.97  |   -1.17   4.14    -8.73    8.90\n",
      "Max Drawdown     0.09    0.05     0.02    0.20  |    0.09    0.06     0.03    0.21  |    0.10   0.04     0.02    0.19\n",
      "Sortino Ratio    0.82    9.73   -13.00   35.49  |    0.25    7.04    -8.68   25.45  |   -0.44   7.13   -10.87   28.90 \n",
      "\n",
      "                run_3                         |   run_4                        \n",
      "                 mean    std     min     max  |    mean    std      min     max\n",
      "Final Returns  -0.00%  0.00%  -0.00%   0.01%  |  -2.50%  8.31%  -14.58%  18.80%\n",
      "Sharpe Ratio    -2.31   4.47   -8.02    8.25  |   -1.60   3.91    -7.89    6.32\n",
      "Max Drawdown     0.00   0.00    0.00    0.00  |    0.07   0.04     0.00    0.15\n",
      "Sortino Ratio    8.49  48.68   -7.64  339.93  |   -0.51   5.89    -7.53   20.37 \n",
      "\n"
     ]
    }
   ],
   "source": [
    "visualize_experiment(11)"
   ]
  },
  {
   "cell_type": "code",
   "execution_count": 52,
   "metadata": {},
   "outputs": [
    {
     "name": "stdout",
     "output_type": "stream",
     "text": [
      "Found 5 files for experiment 12:\n",
      "['exp_12_run_0.csv', 'exp_12_run_1.csv', 'exp_12_run_2.csv', 'exp_12_run_3.csv', 'exp_12_run_4.csv']\n",
      "                run_0                          |   run_1                          |   run_2                       \n",
      "                 mean    std      min     max  |    mean    std      min     max  |    mean    std      min    max\n",
      "Final Returns  -0.38%  9.98%  -16.86%  28.02%  |  -0.74%  9.54%  -16.64%  19.08%  |  -1.83%  4.00%  -13.40%  4.63%\n",
      "Sharpe Ratio    -0.88   5.34   -10.24   10.80  |   -0.63   4.65    -7.30    8.38  |   -1.60   3.14    -6.65   8.20\n",
      "Max Drawdown     0.06   0.04     0.00    0.18  |    0.07   0.04     0.01    0.17  |    0.03   0.04     0.00   0.13\n",
      "Sortino Ratio    4.31  19.23   -10.09  127.44  |    1.32   7.36    -8.40   29.27  |    1.54  10.91    -5.69  72.74 \n",
      "\n",
      "               run_3                          |   run_4                        \n",
      "                mean    std      min     max  |    mean    std      min     max\n",
      "Final Returns  1.21%  9.78%  -17.87%  21.23%  |  -2.51%  8.99%  -20.71%  17.55%\n",
      "Sharpe Ratio    0.64   4.79   -11.53    8.79  |   -0.77   4.33    -8.04    7.96\n",
      "Max Drawdown    0.07   0.05     0.01    0.18  |    0.08   0.06     0.02    0.22\n",
      "Sortino Ratio   4.72  11.02   -12.00   34.97  |   -0.16   7.12    -9.34   21.32 \n",
      "\n"
     ]
    }
   ],
   "source": [
    "visualize_experiment(12)"
   ]
  },
  {
   "cell_type": "code",
   "execution_count": 53,
   "metadata": {},
   "outputs": [
    {
     "name": "stdout",
     "output_type": "stream",
     "text": [
      "Found 5 files for experiment 13:\n",
      "['exp_13_run_0.csv', 'exp_13_run_1.csv', 'exp_13_run_2.csv', 'exp_13_run_3.csv', 'exp_13_run_4.csv']\n",
      "                run_0                           |   run_1                           |   run_2                       \n",
      "                 mean     std      min     max  |    mean     std      min     max  |    mean    std     min     max\n",
      "Final Returns  -0.71%  12.66%  -21.05%  29.19%  |  -1.58%  13.88%  -25.10%  31.66%  |  -0.10%  5.62%  -8.08%  25.08%\n",
      "Sharpe Ratio    -0.04    4.49    -8.41    9.41  |   -0.38    4.64    -8.34    9.72  |   -1.08   3.71   -9.42    9.65\n",
      "Max Drawdown     0.11    0.06     0.02    0.22  |    0.11    0.07     0.03    0.27  |    0.04   0.03    0.01    0.10\n",
      "Sortino Ratio    1.75    9.80   -11.73   31.54  |    1.38   10.65   -11.34   42.32  |   -0.47   7.00  -13.23   30.71 \n",
      "\n",
      "                run_3                          |  run_4                      \n",
      "                 mean    std      min     max  |   mean    std     min    max\n",
      "Final Returns  -1.28%  6.58%  -11.59%  16.62%  |  0.24%  2.14%  -4.13%  5.79%\n",
      "Sharpe Ratio    -0.64   4.25    -8.02    9.33  |   0.42   4.20   -8.33   9.93\n",
      "Max Drawdown     0.06   0.03     0.01    0.14  |   0.02   0.01    0.00   0.04\n",
      "Sortino Ratio    0.42   9.44   -11.28   53.07  |   2.68   9.78  -11.61  43.32 \n",
      "\n"
     ]
    }
   ],
   "source": [
    "visualize_experiment(13)"
   ]
  },
  {
   "cell_type": "code",
   "execution_count": 54,
   "metadata": {},
   "outputs": [
    {
     "name": "stdout",
     "output_type": "stream",
     "text": [
      "Found 5 files for experiment 14:\n",
      "['exp_14_run_0.csv', 'exp_14_run_1.csv', 'exp_14_run_2.csv', 'exp_14_run_3.csv', 'exp_14_run_4.csv']\n",
      "                run_0                         |   run_1                        |   run_2                        \n",
      "                 mean    std      min    max  |    mean    std     min    max  |    mean    std      min     max\n",
      "Final Returns  -2.50%  4.81%  -13.77%  6.40%  |  -0.00%  0.00%  -0.00%  0.00%  |  -0.19%  6.65%  -13.35%  18.24%\n",
      "Sharpe Ratio    -1.06   2.89    -7.32   6.05  |   -0.54   4.02   -8.11   6.47  |    0.02   3.94   -10.45   11.21\n",
      "Max Drawdown     0.06   0.04     0.00   0.17  |    0.00   0.00    0.00   0.00  |    0.06   0.04     0.00    0.15\n",
      "Sortino Ratio    0.09   6.40    -6.83  32.80  |    4.49  12.55   -7.22  49.55  |    4.04  14.27   -10.07   61.59 \n",
      "\n",
      "                run_3                          |   run_4                        \n",
      "                 mean    std      min     max  |    mean    std      min     max\n",
      "Final Returns  -0.56%  9.41%  -17.12%  25.38%  |  -1.05%  9.82%  -17.55%  25.48%\n",
      "Sharpe Ratio    -0.47   4.19    -8.44    8.00  |    0.01   4.27    -7.49   10.91\n",
      "Max Drawdown     0.08   0.04     0.03    0.20  |    0.09   0.05     0.01    0.21\n",
      "Sortino Ratio    0.60   7.41    -9.93   28.58  |    3.58  19.29   -12.64  123.16 \n",
      "\n"
     ]
    }
   ],
   "source": [
    "visualize_experiment(14)"
   ]
  },
  {
   "cell_type": "code",
   "execution_count": 55,
   "metadata": {},
   "outputs": [
    {
     "name": "stdout",
     "output_type": "stream",
     "text": [
      "Found 5 files for experiment 15:\n",
      "['exp_15_run_0.csv', 'exp_15_run_1.csv', 'exp_15_run_2.csv', 'exp_15_run_3.csv', 'exp_15_run_4.csv']\n",
      "                run_0                        |   run_1                          |   run_2                        \n",
      "                 mean    std     min    max  |    mean    std      min     max  |    mean    std      min     max\n",
      "Final Returns  -0.00%  0.00%  -0.01%  0.01%  |  -0.58%  8.20%  -13.32%  22.18%  |  -3.28%  6.90%  -20.39%  15.25%\n",
      "Sharpe Ratio    -0.94   4.08   -7.39   8.64  |   -1.23   4.50    -9.66    8.96  |   -1.19   3.05    -7.66    8.14\n",
      "Max Drawdown     0.00   0.00    0.00   0.00  |    0.07   0.04     0.01    0.13  |    0.08   0.05     0.02    0.20\n",
      "Sortino Ratio    1.57  10.04   -7.97  52.07  |    2.25  15.38   -11.40   86.14  |   -0.88   4.04    -8.29   11.87 \n",
      "\n",
      "                run_3                          |   run_4                        \n",
      "                 mean    std      min     max  |    mean    std      min     max\n",
      "Final Returns  -1.82%  8.76%  -18.06%  18.78%  |  -2.26%  6.17%  -10.20%  20.97%\n",
      "Sharpe Ratio    -0.77   4.02    -9.18    7.68  |   -2.07   3.56    -8.56    9.02\n",
      "Max Drawdown     0.09   0.05     0.02    0.19  |    0.06   0.02     0.02    0.10\n",
      "Sortino Ratio    0.31   6.38   -10.85   17.54  |   -1.18   7.83    -9.45   34.70 \n",
      "\n"
     ]
    }
   ],
   "source": [
    "visualize_experiment(15)"
   ]
  },
  {
   "cell_type": "code",
   "execution_count": 56,
   "metadata": {},
   "outputs": [
    {
     "name": "stdout",
     "output_type": "stream",
     "text": [
      "Found 5 files for experiment 16:\n",
      "['exp_16_run_0.csv', 'exp_16_run_1.csv', 'exp_16_run_2.csv', 'exp_16_run_3.csv', 'exp_16_run_4.csv']\n",
      "                run_0                         |   run_1                        |   run_2                      \n",
      "                 mean    std     min     max  |    mean    std     min    max  |    mean    std     min    max\n",
      "Final Returns  -0.00%  0.00%  -0.01%   0.01%  |  -0.00%  0.01%  -0.03%  0.02%  |  -0.00%  0.00%  -0.00%  0.00%\n",
      "Sharpe Ratio    -2.56   3.52   -7.16    7.38  |   -0.87   4.26   -7.82   8.04  |   -1.57   3.90   -8.72   9.18\n",
      "Max Drawdown     0.00   0.00    0.00    0.00  |    0.00   0.00    0.00   0.00  |    0.00   0.00    0.00   0.00\n",
      "Sortino Ratio    6.98  40.14   -7.49  226.17  |    5.65  19.06   -8.00  89.83  |   -1.10   6.28  -12.80  15.74 \n",
      "\n",
      "                run_3                          |   run_4                        \n",
      "                 mean    std      min     max  |    mean    std      min     max\n",
      "Final Returns  -2.76%  9.36%  -14.75%  22.22%  |  -0.28%  9.79%  -22.97%  26.72%\n",
      "Sharpe Ratio    -0.88   3.75    -8.17    8.74  |    0.03   4.04    -7.29    9.51\n",
      "Max Drawdown     0.10   0.05     0.02    0.21  |    0.08   0.05     0.01    0.24\n",
      "Sortino Ratio    0.63  10.56   -10.71   41.59  |    2.19   9.78    -8.42   50.90 \n",
      "\n"
     ]
    }
   ],
   "source": [
    "visualize_experiment(16)"
   ]
  },
  {
   "cell_type": "code",
   "execution_count": 57,
   "metadata": {},
   "outputs": [
    {
     "name": "stdout",
     "output_type": "stream",
     "text": [
      "Found 5 files for experiment 17:\n",
      "['exp_17_run_0.csv', 'exp_17_run_1.csv', 'exp_17_run_2.csv', 'exp_17_run_3.csv', 'exp_17_run_4.csv']\n",
      "                run_0                           |   run_1                           |   run_2                        \n",
      "                 mean     std      min     max  |    mean     std      min     max  |    mean    std      min     max\n",
      "Final Returns  -3.41%  11.93%  -19.86%  27.84%  |  -0.05%  12.12%  -19.30%  35.85%  |  -1.98%  9.29%  -19.84%  24.84%\n",
      "Sharpe Ratio    -1.40    4.48    -7.33    8.94  |   -0.43    4.54    -8.30   11.44  |   -0.92   4.53    -9.73    9.63\n",
      "Max Drawdown     0.10    0.05     0.03    0.21  |    0.09    0.05     0.02    0.21  |    0.08   0.05     0.02    0.20\n",
      "Sortino Ratio    0.15    8.45    -7.23   32.19  |    1.23    9.82   -10.86   33.84  |    0.46   8.74   -10.37   36.88 \n",
      "\n",
      "                run_3                          |   run_4                       \n",
      "                 mean    std      min     max  |    mean    std     min     max\n",
      "Final Returns  -5.47%  9.99%  -24.66%  16.53%  |  -0.00%  0.00%  -0.00%   0.00%\n",
      "Sharpe Ratio    -1.59   4.10    -7.45    9.83  |   -0.39   4.30   -8.07    8.00\n",
      "Max Drawdown     0.11   0.07     0.01    0.27  |    0.00   0.00    0.00    0.00\n",
      "Sortino Ratio   -1.13   7.21    -7.98   26.32  |    8.97  23.16   -7.89  159.61 \n",
      "\n"
     ]
    }
   ],
   "source": [
    "visualize_experiment(17)"
   ]
  },
  {
   "cell_type": "code",
   "execution_count": 58,
   "metadata": {},
   "outputs": [
    {
     "name": "stdout",
     "output_type": "stream",
     "text": [
      "Found 5 files for experiment 18:\n",
      "['exp_18_run_0.csv', 'exp_18_run_1.csv', 'exp_18_run_2.csv', 'exp_18_run_3.csv', 'exp_18_run_4.csv']\n",
      "                run_0                         |   run_1                           |   run_2                        \n",
      "                 mean    std      min    max  |    mean     std      min     max  |    mean    std      min     max\n",
      "Final Returns  -1.36%  5.61%  -16.68%  9.78%  |  -4.73%  10.63%  -22.87%  20.94%  |  -1.37%  7.15%  -17.28%  13.91%\n",
      "Sharpe Ratio    -0.93   2.90    -6.78   4.02  |   -1.61    4.43   -10.74    8.12  |   -0.25   4.00    -7.23    8.27\n",
      "Max Drawdown     0.05   0.04     0.02   0.17  |    0.11    0.06     0.02    0.25  |    0.07   0.04     0.01    0.18\n",
      "Sortino Ratio   -0.14   4.03    -6.25   8.28  |   -1.01    7.49   -12.60   21.02  |    1.16   7.40    -9.53   24.02 \n",
      "\n",
      "                run_3                          |   run_4                       \n",
      "                 mean    std      min     max  |    mean    std     min     max\n",
      "Final Returns  -2.08%  7.00%  -18.63%  15.91%  |  -0.00%  0.00%  -0.00%   0.00%\n",
      "Sharpe Ratio    -0.80   4.30   -10.59   10.95  |   -1.14   3.94   -9.29    6.38\n",
      "Max Drawdown     0.07   0.04     0.01    0.20  |    0.00   0.00    0.00    0.00\n",
      "Sortino Ratio    1.42  11.45   -14.96   59.33  |    5.90  28.35   -9.84  175.54 \n",
      "\n"
     ]
    }
   ],
   "source": [
    "visualize_experiment(18)"
   ]
  },
  {
   "cell_type": "code",
   "execution_count": null,
   "metadata": {},
   "outputs": [],
   "source": []
  }
 ],
 "metadata": {
  "kernelspec": {
   "display_name": "Python 3",
   "language": "python",
   "name": "python3"
  },
  "language_info": {
   "codemirror_mode": {
    "name": "ipython",
    "version": 3
   },
   "file_extension": ".py",
   "mimetype": "text/x-python",
   "name": "python",
   "nbconvert_exporter": "python",
   "pygments_lexer": "ipython3",
   "version": "3.11.11"
  }
 },
 "nbformat": 4,
 "nbformat_minor": 2
}
